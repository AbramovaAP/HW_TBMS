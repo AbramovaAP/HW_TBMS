{
 "cells": [
  {
   "cell_type": "markdown",
   "metadata": {},
   "source": [
    "## Задача 1"
   ]
  },
  {
   "cell_type": "markdown",
   "metadata": {},
   "source": [
    "Даны две  независимые выборки. Не соблюдается условие нормальности   \n",
    "x1  380,420, 290   \n",
    "y1 140,360,200,900  \n",
    "  \n",
    "Сделайте вывод по результатам, полученным с помощью функции  \n"
   ]
  },
  {
   "cell_type": "code",
   "execution_count": 4,
   "metadata": {},
   "outputs": [],
   "source": [
    "import numpy as np\n",
    "import scipy.stats as stats"
   ]
  },
  {
   "cell_type": "code",
   "execution_count": 5,
   "metadata": {},
   "outputs": [
    {
     "name": "stdout",
     "output_type": "stream",
     "text": [
      "\n",
      ">>> Statistics = 8.00 \n",
      ">>> Р-value = 0.629\n",
      ">>> Cтатистически значимых различий нет, нулевая гипотеза не отвергается.\n"
     ]
    }
   ],
   "source": [
    "alpha = 0.05\n",
    "x= np.array([380, 420, 290])\n",
    "y= np.array([140, 360, 200, 900])\n",
    "d = stats.mannwhitneyu(x,y)\n",
    "print('\\n>>> Statistics = %.2f \\n>>> Р-value = %.3f' % (d))\n",
    "s, p = stats.mannwhitneyu(x,y)\n",
    "if p > alpha:\n",
    "    print('>>> Cтатистически значимых различий нет, нулевая гипотеза не отвергается.')\n",
    "else:\n",
    "    print('>>> Cтатистически значимые различия присутствуют, нулевую гипотезу отвергаем.')"
   ]
  }
 ],
 "metadata": {
  "kernelspec": {
   "display_name": "Python 3",
   "language": "python",
   "name": "python3"
  },
  "language_info": {
   "codemirror_mode": {
    "name": "ipython",
    "version": 3
   },
   "file_extension": ".py",
   "mimetype": "text/x-python",
   "name": "python",
   "nbconvert_exporter": "python",
   "pygments_lexer": "ipython3",
   "version": "3.11.8"
  }
 },
 "nbformat": 4,
 "nbformat_minor": 2
}
