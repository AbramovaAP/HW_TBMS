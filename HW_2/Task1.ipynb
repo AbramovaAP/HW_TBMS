{
 "cells": [
  {
   "cell_type": "markdown",
   "metadata": {},
   "source": [
    "## Задача 1"
   ]
  },
  {
   "cell_type": "code",
   "execution_count": 1,
   "metadata": {},
   "outputs": [],
   "source": [
    "from math import factorial\n"
   ]
  },
  {
   "cell_type": "code",
   "execution_count": 2,
   "metadata": {},
   "outputs": [],
   "source": [
    "# функция для вычисления факториала\n",
    "def factorial(n):\n",
    "    if n == 0 or n == 1:\n",
    "        return 1\n",
    "    else:\n",
    "        return n * factorial(n - 1)\n",
    "\n",
    "n = 100\n",
    "p = 0.8\n",
    "k = 85"
   ]
  },
  {
   "cell_type": "code",
   "execution_count": 3,
   "metadata": {},
   "outputs": [
    {
     "name": "stdout",
     "output_type": "stream",
     "text": [
      "\n",
      "Вероятность того, что стрелок попадет в мишень, выстрелив один раз, равна 0.8.\n",
      "Стрелок выстрелил 100 раз. Найдите вероятность того, что стрелок попадет в цель ровно 85 раз.\n",
      "\n",
      "Вероятность того, что стрелок попадет в мишень ровно 85 раз из 100 выстрелов: 0.048061793700746355 или ~ 4.81 %\n",
      "\n"
     ]
    }
   ],
   "source": [
    "print(\"\\nВероятность того, что стрелок попадет в мишень, выстрелив один раз, равна 0.8.\")\n",
    "print(\"Стрелок выстрелил 100 раз. Найдите вероятность того, что стрелок попадет в цель ровно 85 раз.\")\n",
    "\n",
    "# Вычисляем вероятность ровно 85 попаданий в мишень из 100 выстрелов\n",
    "prob = (factorial(n) / (factorial(k) * factorial(n - k))) * (p ** k) * ((1 - p) ** (n - k))\n",
    "\n",
    "print(\"\\nВероятность того, что стрелок попадет в мишень ровно 85 раз из 100 выстрелов:\", prob, \"или ~\", round(prob*100, 2), \"%\\n\")\n"
   ]
  }
 ],
 "metadata": {
  "kernelspec": {
   "display_name": "Python 3",
   "language": "python",
   "name": "python3"
  },
  "language_info": {
   "codemirror_mode": {
    "name": "ipython",
    "version": 3
   },
   "file_extension": ".py",
   "mimetype": "text/x-python",
   "name": "python",
   "nbconvert_exporter": "python",
   "pygments_lexer": "ipython3",
   "version": "3.11.8"
  }
 },
 "nbformat": 4,
 "nbformat_minor": 2
}
