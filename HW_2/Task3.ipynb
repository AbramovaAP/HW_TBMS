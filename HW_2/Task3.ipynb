{
 "cells": [
  {
   "cell_type": "markdown",
   "metadata": {},
   "source": [
    "## Задача 3"
   ]
  },
  {
   "cell_type": "code",
   "execution_count": 1,
   "metadata": {},
   "outputs": [],
   "source": [
    "# функция для вычисления факториала\n",
    "def factorial(n):\n",
    "    if n == 0 or n == 1:\n",
    "        return 1\n",
    "    else:\n",
    "        return n * factorial(n - 1)"
   ]
  },
  {
   "cell_type": "code",
   "execution_count": 2,
   "metadata": {},
   "outputs": [],
   "source": [
    "# функция для вычисления сочетаний\n",
    "def combinations(n, k):\n",
    "    return factorial(n) / (factorial(k) * factorial(n - k))\n"
   ]
  },
  {
   "cell_type": "code",
   "execution_count": 3,
   "metadata": {},
   "outputs": [
    {
     "name": "stdout",
     "output_type": "stream",
     "text": [
      "\n",
      "Монету подбросили 144 раза. Какова вероятность, что орел выпадет ровно 70 раз?\n",
      "\n",
      "Вероятность выпадения орла ровно 70 раз из 144 подбрасываний: 0.06281 или ~ 6.28 %\n"
     ]
    }
   ],
   "source": [
    "print(\"\\nМонету подбросили 144 раза. Какова вероятность, что орел выпадет ровно 70 раз?\")\n",
    "\n",
    "n = 144\n",
    "k = 70\n",
    "p = 0.5\n",
    "\n",
    "prob = combinations(n, k) * p ** k * (1 - p) ** (n - k)\n",
    "\n",
    "print(f\"\\nВероятность выпадения орла ровно 70 раз из 144 подбрасываний: {(prob):.4}\", \"или ~\", round(prob*100, 2), \"%\")\n"
   ]
  }
 ],
 "metadata": {
  "kernelspec": {
   "display_name": "Python 3",
   "language": "python",
   "name": "python3"
  },
  "language_info": {
   "codemirror_mode": {
    "name": "ipython",
    "version": 3
   },
   "file_extension": ".py",
   "mimetype": "text/x-python",
   "name": "python",
   "nbconvert_exporter": "python",
   "pygments_lexer": "ipython3",
   "version": "3.11.8"
  }
 },
 "nbformat": 4,
 "nbformat_minor": 2
}
