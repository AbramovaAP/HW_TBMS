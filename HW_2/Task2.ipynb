{
 "cells": [
  {
   "cell_type": "markdown",
   "metadata": {},
   "source": [
    "## Задача 2"
   ]
  },
  {
   "cell_type": "code",
   "execution_count": 1,
   "metadata": {},
   "outputs": [],
   "source": [
    "import math"
   ]
  },
  {
   "cell_type": "code",
   "execution_count": 2,
   "metadata": {},
   "outputs": [
    {
     "name": "stdout",
     "output_type": "stream",
     "text": [
      "\n",
      "Вероятность того, что лампочка перегорит в течение первого дня эксплуатации, равна 0.0004.\n",
      "В жилом комплексе после ремонта в один день включили 5000 новых лампочек.\n",
      "Какова вероятность, что ни одна из них не перегорит в первый день?\n",
      "Какова вероятность, что перегорят ровно две?\n",
      "\n",
      "Вероятность, что ни одна из лампочек не перегорит: 0.1353 или ~ 13.53 %\n",
      "Вероятность, что перегорят ровно две лампочки: 0.2707 или ~ 27.07 %\n"
     ]
    }
   ],
   "source": [
    "p = 0.0004\n",
    "n = 5000\n",
    "lambda_ = n * p\n",
    "\n",
    "print(\"\\nВероятность того, что лампочка перегорит в течение первого дня эксплуатации, равна 0.0004.\")\n",
    "print(\"В жилом комплексе после ремонта в один день включили 5000 новых лампочек.\") \n",
    "print(\"Какова вероятность, что ни одна из них не перегорит в первый день?\")\n",
    "print(\"Какова вероятность, что перегорят ровно две?\")\n",
    "\n",
    "# вероятность того, что ни одна из лампочек не перегорит\n",
    "p_0 = math.exp(-lambda_) * lambda_**0 / math.factorial(0)\n",
    "print(\"\\nВероятность, что ни одна из лампочек не перегорит: {:.4f}\".format(p_0), \"или ~\", round(p_0*100, 2), \"%\")\n",
    "\n",
    "# вероятность того, что перегорят ровно две лампочки\n",
    "p_2 = math.exp(-lambda_) * lambda_**2 / math.factorial(2)\n",
    "print(\"Вероятность, что перегорят ровно две лампочки: {:.4f}\".format(p_2), \"или ~\", round(p_2*100, 2), \"%\")"
   ]
  }
 ],
 "metadata": {
  "kernelspec": {
   "display_name": "Python 3",
   "language": "python",
   "name": "python3"
  },
  "language_info": {
   "codemirror_mode": {
    "name": "ipython",
    "version": 3
   },
   "file_extension": ".py",
   "mimetype": "text/x-python",
   "name": "python",
   "nbconvert_exporter": "python",
   "pygments_lexer": "ipython3",
   "version": "3.11.8"
  }
 },
 "nbformat": 4,
 "nbformat_minor": 2
}
