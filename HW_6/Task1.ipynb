{
 "cells": [
  {
   "cell_type": "markdown",
   "metadata": {},
   "source": [
    "## Задача 1"
   ]
  },
  {
   "cell_type": "markdown",
   "metadata": {},
   "source": [
    "Известно, что генеральная совокупность распределена нормально со средним квадратическим отклонением, равным 16. Найти доверительный интервал для оценки математического ожидания a с надежностью 0.95, если выборочная средняя M = 80, а объем выборки n = 256. "
   ]
  },
  {
   "cell_type": "code",
   "execution_count": 1,
   "metadata": {},
   "outputs": [],
   "source": [
    "import numpy as np\n",
    "import scipy.stats as stats  "
   ]
  },
  {
   "cell_type": "markdown",
   "metadata": {},
   "source": [
    "При известной $\\sigma$ генеральной совокупности для расчета доверительного интервала пирменяется $Z$-критерий.\\\n",
    "$n=256$ - объем выборки\\\n",
    "$\\bar X=M=80$ - среднее значение выборки   \n",
    "$\\sigma=16$ - среднее квадратическое отклонение генеральной совокупности  \n",
    "$z_{\\alpha/2}=1,96$  - табличное значение $Z$-критерия для $95\\%$ доверительного интервала      \n",
    "Формула нахождения доверительного интервала  \n",
    "$\\displaystyle\\bar X\\pm z_{\\alpha/2}\\cdot\\frac{\\sigma}{\\sqrt n}$   "
   ]
  },
  {
   "cell_type": "code",
   "execution_count": 2,
   "metadata": {},
   "outputs": [
    {
     "name": "stdout",
     "output_type": "stream",
     "text": [
      ">>> Доверительный интервал: [78.04 ; 81.96].\n"
     ]
    }
   ],
   "source": [
    "l_border=80-1.96*16/256**0.5\n",
    "r_border=80+1.96*16/256**0.5\n",
    "print(f'>>> Доверительный интервал: [{l_border} ; {r_border}].')"
   ]
  }
 ],
 "metadata": {
  "kernelspec": {
   "display_name": "Python 3",
   "language": "python",
   "name": "python3"
  },
  "language_info": {
   "codemirror_mode": {
    "name": "ipython",
    "version": 3
   },
   "file_extension": ".py",
   "mimetype": "text/x-python",
   "name": "python",
   "nbconvert_exporter": "python",
   "pygments_lexer": "ipython3",
   "version": "3.11.8"
  }
 },
 "nbformat": 4,
 "nbformat_minor": 2
}
