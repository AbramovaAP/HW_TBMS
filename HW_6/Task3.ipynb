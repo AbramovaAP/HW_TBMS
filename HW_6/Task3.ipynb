{
 "cells": [
  {
   "cell_type": "markdown",
   "metadata": {},
   "source": [
    "## Задача 3"
   ]
  },
  {
   "cell_type": "markdown",
   "metadata": {},
   "source": [
    "Рост дочерей 175, 167, 154, 174, 178, 148, 160, 167, 169, 170.\n",
    "Рост матерей  178, 165, 165, 173, 168, 155, 160, 164, 178, 175.\n",
    "Используя эти данные построить 95% доверительный интервал для разности среднего роста родителей и детей.\n"
   ]
  },
  {
   "cell_type": "code",
   "execution_count": 17,
   "metadata": {},
   "outputs": [],
   "source": [
    "import numpy as np\n",
    "import scipy.stats as stats  "
   ]
  },
  {
   "cell_type": "markdown",
   "metadata": {},
   "source": [
    "Интервальная оценка для разности средних арифметических по формуле: \n",
    " \n",
    "$\\bar{x}_1 - \\bar{x}_2 \\pm t_{\\frac{\\alpha}{2}} \\sqrt{\\frac{s_1^2}{n_1} + \\frac{s_2^2}{n_2}}$\n",
    "\n",
    "где:  \n",
    "$\\bar{x}_1$ - среднее арифметическое в группе 1  \n",
    "$\\bar{x}_2$ - среднее арифметическое в группе 2  \n",
    "$s_1^2$ - дисперсия в группе 1  \n",
    "$s_2^2$ - дисперсия в группе 2  \n",
    "$n_1$ - число элементов в группе 1  \n",
    "$n_2$ - число элементов в группе 2  "
   ]
  },
  {
   "cell_type": "code",
   "execution_count": 20,
   "metadata": {},
   "outputs": [
    {
     "name": "stdout",
     "output_type": "stream",
     "text": [
      ">>> Разница между выборочным средним ростом дочерей и матерей: 1.9\n",
      ">>> Стандартная ошибка: 3.89\n",
      ">>> Значение t-критерия для доверительного интервала: 2.10092204024096\n",
      ">>> 95% доверительный интервал для разности среднего роста родителей и детей: [-6.27, 10.07]\n"
     ]
    }
   ],
   "source": [
    "mothers = np.array([178, 165, 165, 173, 168, 155, 160, 164, 178, 175])\n",
    "daughters = np.array([175, 167, 154, 174, 178, 148, 160, 167, 169, 170])\n",
    "\n",
    "difference_of_means = np.mean(mothers) - np.mean(daughters)\n",
    "print(f'>>> Разница между выборочным средним ростом дочерей и матерей: {difference_of_means:.1f}')\n",
    "\n",
    "standard_error = np.sqrt(np.var(mothers, ddof=1)/len(mothers) + np.var(daughters, ddof=1)/len(daughters))\n",
    "print(f'>>> Стандартная ошибка: {standard_error:.2f}')\n",
    "\n",
    "t_critical = stats.t.ppf(0.975, len(mothers) + len(daughters) - 2)\n",
    "print(f'>>> Значение t-критерия для доверительного интервала: {t_critical}')\n",
    "\n",
    "l_border = difference_of_means - t_critical * standard_error\n",
    "r_border = difference_of_means + t_critical * standard_error\n",
    "\n",
    "print(f'>>> 95% доверительный интервал для разности среднего роста родителей и детей: [{l_border:.2f}, {r_border:.2f}]')"
   ]
  }
 ],
 "metadata": {
  "kernelspec": {
   "display_name": "Python 3",
   "language": "python",
   "name": "python3"
  },
  "language_info": {
   "codemirror_mode": {
    "name": "ipython",
    "version": 3
   },
   "file_extension": ".py",
   "mimetype": "text/x-python",
   "name": "python",
   "nbconvert_exporter": "python",
   "pygments_lexer": "ipython3",
   "version": "3.11.8"
  }
 },
 "nbformat": 4,
 "nbformat_minor": 2
}
