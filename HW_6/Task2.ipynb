{
 "cells": [
  {
   "cell_type": "markdown",
   "metadata": {},
   "source": [
    "## Задача 2"
   ]
  },
  {
   "cell_type": "markdown",
   "metadata": {},
   "source": [
    "В результате 10 независимых измерений некоторой величины X, выполненных с одинаковой точностью, получены опытные данные: 6.9, 6.1, 6.2, 6.8, 7.5, 6.3, 6.4, 6.9, 6.7, 6.1 Предполагая, что результаты измерений подчинены нормальному закону распределения вероятностей, оценить истинное значение величины X при помощи доверительного интервала, покрывающего это значение с доверительной вероятностью 0,95"
   ]
  },
  {
   "cell_type": "markdown",
   "metadata": {},
   "source": [
    "Если $\\sigma$ неизвестна, вычисляем ее по выборке, используя формулу для несмещенного стандартного отклонения.   \n",
    "$\\displaystyle\\bar X\\pm t_{\\alpha/2}\\cdot\\frac{\\sigma}{\\sqrt{n}}$  "
   ]
  },
  {
   "cell_type": "code",
   "execution_count": 7,
   "metadata": {},
   "outputs": [],
   "source": [
    "import numpy as np\n",
    "import scipy.stats as stats"
   ]
  },
  {
   "cell_type": "code",
   "execution_count": 8,
   "metadata": {},
   "outputs": [
    {
     "name": "stdout",
     "output_type": "stream",
     "text": [
      ">>> Среднее арифметическое для выборки: 6.590000000000001\n",
      ">>> Среднее квадратическое отклонение по выборке(несмещенное): 0.4508017549014448\n",
      ">>> Значение t-критерия для 0.95% доверительного интервала: 2.2621571628540993\n",
      ">>> Доверительный интервал для величины \"X\" составляет: [6.268 ; 6.912]\n"
     ]
    }
   ],
   "source": [
    "array = [6.9, 6.1, 6.2, 6.8, 7.5, 6.3, 6.4, 6.9, 6.7, 6.1]\n",
    "n = len(array)\n",
    "x = np.mean(array)\n",
    "print(f'>>> Среднее арифметическое для выборки: {x}')\n",
    "a = 0.05\n",
    "\n",
    "sigma = np.std(array, ddof=1)\n",
    "print(f'>>> Среднее квадратическое отклонение по выборке(несмещенное): {sigma}')\n",
    "\n",
    "stats = stats.t.ppf( 1-a/2, n-1)\n",
    "print(f'>>> Значение t-критерия для {1-a}% доверительного интервала: {stats}')\n",
    "\n",
    "l_border=x-stats*sigma/np.sqrt(n)\n",
    "r_border=x+stats*sigma/np.sqrt(n)\n",
    "print(f'>>> Доверительный интервал для величины \"X\" составляет: [{l_border:.3f} ; {r_border:.3f}]')"
   ]
  }
 ],
 "metadata": {
  "kernelspec": {
   "display_name": "Python 3",
   "language": "python",
   "name": "python3"
  },
  "language_info": {
   "codemirror_mode": {
    "name": "ipython",
    "version": 3
   },
   "file_extension": ".py",
   "mimetype": "text/x-python",
   "name": "python",
   "nbconvert_exporter": "python",
   "pygments_lexer": "ipython3",
   "version": "3.11.8"
  }
 },
 "nbformat": 4,
 "nbformat_minor": 2
}
