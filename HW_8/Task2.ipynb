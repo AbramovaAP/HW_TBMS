{
 "cells": [
  {
   "cell_type": "markdown",
   "metadata": {},
   "source": [
    "## Задача 2"
   ]
  },
  {
   "cell_type": "markdown",
   "metadata": {},
   "source": [
    "Измерены значения IQ выборки студентов, обучающихся в местных технических вузах:   \n",
    "131, 125, 115, 122, 131, 115, 107, 99, 125, 111.  \n",
    "\n",
    "Известно, что в генеральной совокупности IQ распределен нормально.   \n",
    "Найдите доверительный интервал для математического ожидания с надежностью 0.95."
   ]
  },
  {
   "cell_type": "markdown",
   "metadata": {},
   "source": [
    "Для нахождения доверительного интервала для математического ожидания нам нужно знать среднее значение выборки и её стандартное отклонение.\n",
    "\n",
    "Используем стандартное отклонение выборки в качестве оценки стандартного отклонения генеральной совокупности, так как мы не знаем его истинного значения:"
   ]
  },
  {
   "cell_type": "code",
   "execution_count": 1,
   "metadata": {},
   "outputs": [],
   "source": [
    "import numpy as np\n",
    "\n",
    "sample = np.array([131, 125, 115, 122, 131, 115, 107, 99, 125, 111])\n",
    "n = len(sample)\n",
    "mean = np.mean(sample)\n",
    "std_dev = np.std(sample, ddof=1)"
   ]
  },
  {
   "cell_type": "markdown",
   "metadata": {},
   "source": [
    "Здесь n - размер выборки, mean - среднее значение выборки, std_dev - исправленное стандартное отклонение выборки.\n",
    "\n",
    "Теперь мы можем найти доверительный интервал для математического ожидания при помощи формулы:"
   ]
  },
  {
   "cell_type": "code",
   "execution_count": 2,
   "metadata": {},
   "outputs": [
    {
     "name": "stdout",
     "output_type": "stream",
     "text": [
      "Доверительный интервал: (110.56, 125.64)\n"
     ]
    }
   ],
   "source": [
    "import scipy.stats as stats\n",
    "\n",
    "confidence_level = 0.95\n",
    "alpha = 1 - confidence_level\n",
    "t = stats.t.ppf(1 - alpha / 2, df=n-1)  # критическое значение t-статистики\n",
    "\n",
    "lower = mean - t * std_dev / np.sqrt(n)\n",
    "upper = mean + t * std_dev / np.sqrt(n)\n",
    "\n",
    "print(\"Доверительный интервал: ({:.2f}, {:.2f})\".format(lower, upper))"
   ]
  },
  {
   "cell_type": "markdown",
   "metadata": {},
   "source": [
    "Здесь t - критическое значение t-статистики, которое мы находим с помощью функции stats.t.ppf() из библиотеки scipy.stats.\n",
    "\n",
    "Итак, доверительный интервал для математического ожидания с надежностью 0.95 для данной выборки равен (110.56, 125.64). То есть мы можем утверждать, что с 95% уверенностью истинное значение математического ожидания находится в этом интервале."
   ]
  }
 ],
 "metadata": {
  "kernelspec": {
   "display_name": "Python 3",
   "language": "python",
   "name": "python3"
  },
  "language_info": {
   "codemirror_mode": {
    "name": "ipython",
    "version": 3
   },
   "file_extension": ".py",
   "mimetype": "text/x-python",
   "name": "python",
   "nbconvert_exporter": "python",
   "pygments_lexer": "ipython3",
   "version": "3.11.8"
  }
 },
 "nbformat": 4,
 "nbformat_minor": 2
}
