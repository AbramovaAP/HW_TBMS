{
 "cells": [
  {
   "cell_type": "markdown",
   "metadata": {},
   "source": [
    "## Задача 4"
   ]
  },
  {
   "cell_type": "markdown",
   "metadata": {},
   "source": [
    "Вероятность того, что студент учится, определяется, как сумма вероятностей этих событий:"
   ]
  },
  {
   "cell_type": "code",
   "execution_count": 1,
   "metadata": {},
   "outputs": [
    {
     "name": "stdout",
     "output_type": "stream",
     "text": [
      "Полная вероятность наступления события PВ = 0.825.\n"
     ]
    }
   ],
   "source": [
    "PB = 0.25 * 0.8 + 0.25 * 0.7 + 0.5 * 0.9\n",
    "print(f'Полная вероятность наступления события PВ = {round(PB, 4)}.')\n"
   ]
  },
  {
   "cell_type": "markdown",
   "metadata": {},
   "source": [
    "С помощью формулы Байеса P(A│B)=(P(B│A)*P(A))/(P(B)) оценим вероятность того, что выстрел произведен каждым спортсменом:"
   ]
  },
  {
   "cell_type": "code",
   "execution_count": 2,
   "metadata": {},
   "outputs": [
    {
     "name": "stdout",
     "output_type": "stream",
     "text": [
      "Вероятность того, что студент учится на факультете А: 0.2424 = 24.24%;\n",
      "Вероятность того, что студент учится на факультете B: 0.2424 = 24.24%;\n",
      "Вероятность того, что студент учится на факультете C: 0.5455 = 54.55%.\n"
     ]
    }
   ],
   "source": [
    "PAB1 = 0.25 * 0.8 / PB\n",
    "PAB2 = 0.25 * 0.7 / PB\n",
    "PAB3 = 0.5 * 0.9 / PB\n",
    "print(f'Вероятность того, что студент учится на факультете А: {round(PAB1, 4)} = {round(PAB1 * 100, 2)}%;\\n'\n",
    "      f'Вероятность того, что студент учится на факультете B: {round(PAB1, 4)} = {round(PAB1 * 100, 2)}%;\\n'\n",
    "      f'Вероятность того, что студент учится на факультете C: {round(PAB3, 4)} = {round(PAB3 * 100, 2)}%.')\n"
   ]
  }
 ],
 "metadata": {
  "kernelspec": {
   "display_name": "Python 3",
   "language": "python",
   "name": "python3"
  },
  "language_info": {
   "codemirror_mode": {
    "name": "ipython",
    "version": 3
   },
   "file_extension": ".py",
   "mimetype": "text/x-python",
   "name": "python",
   "nbconvert_exporter": "python",
   "pygments_lexer": "ipython3",
   "version": "3.11.8"
  }
 },
 "nbformat": 4,
 "nbformat_minor": 2
}
