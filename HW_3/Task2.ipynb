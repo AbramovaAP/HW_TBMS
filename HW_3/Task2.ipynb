{
 "cells": [
  {
   "cell_type": "markdown",
   "metadata": {},
   "source": [
    "## Задача 2"
   ]
  },
  {
   "cell_type": "code",
   "execution_count": 1,
   "metadata": {},
   "outputs": [],
   "source": [
    "import numpy as np\n",
    "import matplotlib.pyplot as plt\n",
    "from math import factorial"
   ]
  },
  {
   "cell_type": "code",
   "execution_count": 2,
   "metadata": {},
   "outputs": [],
   "source": [
    "def combinations(n,k):\n",
    "    return factorial(n) / (factorial(k) * factorial(n - k))"
   ]
  },
  {
   "cell_type": "markdown",
   "metadata": {},
   "source": [
    "1. Определим вероятность события: Событие_1   \n",
    "P(A)*P(B)=(C_5^0*C_3^2)/(C_8^2 )*(C_5^3*C_7^1)/(C_12^4 )"
   ]
  },
  {
   "cell_type": "code",
   "execution_count": 3,
   "metadata": {},
   "outputs": [
    {
     "name": "stdout",
     "output_type": "stream",
     "text": [
      "Из первого ящика вытащили 0 белых мячей И из второго вытащили 3 белых мяча = 0.0152\n"
     ]
    }
   ],
   "source": [
    "P1 = (combinations(5,0) * combinations(3,2) / combinations(8,2)) * (combinations(5,3) * combinations(7,1) / combinations(12,4))\n",
    "print(f'Из первого ящика вытащили 0 белых мячей И из второго вытащили 3 белых мяча = {round(P1, 4)}')"
   ]
  },
  {
   "cell_type": "markdown",
   "metadata": {},
   "source": [
    "2. Определим вероятность события: Событие_2   \n",
    "P(C)*P(D)=(C_5^1*C_3^1)/(C_8^2 )*(C_5^1*C_7^1)/(C_12^4 )"
   ]
  },
  {
   "cell_type": "code",
   "execution_count": 5,
   "metadata": {},
   "outputs": [
    {
     "name": "stdout",
     "output_type": "stream",
     "text": [
      "Из первого ящика вытащили 1 белый мяч И из второго вытащили 2 белых мяча = 0.2273\n"
     ]
    }
   ],
   "source": [
    "P2 = (combinations(5,1) * combinations(3,1) / combinations(8,2)) * (combinations(5,2) * combinations(7,2) / combinations(12,4))\n",
    "print(f'Из первого ящика вытащили 1 белый мяч И из второго вытащили 2 белых мяча = {round(P2, 4)}')"
   ]
  },
  {
   "cell_type": "markdown",
   "metadata": {},
   "source": [
    "3. Определим вероятность события: Событие_3  \n",
    "P(E)*P(F)=(C_5^2*C_3^0)/(C_8^2 )*(C_5^1*C_7^3)/(C_12^4 )"
   ]
  },
  {
   "cell_type": "code",
   "execution_count": 6,
   "metadata": {},
   "outputs": [
    {
     "name": "stdout",
     "output_type": "stream",
     "text": [
      "Из первого ящика вытащили 2 белых мяча И из второго вытащили 1 белый мяч = 0.1263\n"
     ]
    }
   ],
   "source": [
    "P3=(combinations(5,2) * combinations(3,0) / combinations(8,2)) * (combinations(5,1) * combinations(7,3) / combinations(12,4))\n",
    "print(f'Из первого ящика вытащили 2 белых мяча И из второго вытащили 1 белый мяч = {round(P3, 4)}')"
   ]
  },
  {
   "cell_type": "code",
   "execution_count": 7,
   "metadata": {},
   "outputs": [
    {
     "name": "stdout",
     "output_type": "stream",
     "text": [
      "Вероятность того, что 3 мяча белые Р = 0.3687 = 36.87%\n"
     ]
    }
   ],
   "source": [
    "P = P1 + P2 + P3\n",
    "print(f'Вероятность того, что 3 мяча белые Р = {round(P, 4)} = {round(P * 100, 2)}%')"
   ]
  }
 ],
 "metadata": {
  "kernelspec": {
   "display_name": "Python 3",
   "language": "python",
   "name": "python3"
  },
  "language_info": {
   "codemirror_mode": {
    "name": "ipython",
    "version": 3
   },
   "file_extension": ".py",
   "mimetype": "text/x-python",
   "name": "python",
   "nbconvert_exporter": "python",
   "pygments_lexer": "ipython3",
   "version": "3.11.8"
  }
 },
 "nbformat": 4,
 "nbformat_minor": 2
}
