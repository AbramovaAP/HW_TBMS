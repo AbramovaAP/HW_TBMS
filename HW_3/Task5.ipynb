{
 "cells": [
  {
   "cell_type": "markdown",
   "metadata": {},
   "source": [
    "## Задача 5"
   ]
  },
  {
   "cell_type": "markdown",
   "metadata": {},
   "source": [
    "а) Вероятность того, что вышли из строя все детали, произойдет если события \n",
    "A_1,A_2  и A_3 произойдут одновременно:\n"
   ]
  },
  {
   "cell_type": "code",
   "execution_count": 1,
   "metadata": {},
   "outputs": [
    {
     "name": "stdout",
     "output_type": "stream",
     "text": [
      "Вероятность того, что из строя выйдут все детали Р(A) = 0.005 = 0.5%\n"
     ]
    }
   ],
   "source": [
    "PA = 0.1 * 0.2 * 0.25\n",
    "print(f'Вероятность того, что из строя выйдут все детали Р(A) = {round(PA, 4)} = {round(PA * 100, 2)}%')\n"
   ]
  },
  {
   "cell_type": "markdown",
   "metadata": {},
   "source": [
    "б) Вероятность того, что вышли из строя только две детали:"
   ]
  },
  {
   "cell_type": "code",
   "execution_count": 2,
   "metadata": {},
   "outputs": [
    {
     "name": "stdout",
     "output_type": "stream",
     "text": [
      "Вероятность того, что из строя выйдут только 2 детали Р(B) = 0.08 = 8.0%\n"
     ]
    }
   ],
   "source": [
    "PB = 0.1 * 0.2 * 0.75 + 0.1 * 0.25 * 0.8 + 0.2 * 0.25 * 0.9\n",
    "print(f'Вероятность того, что из строя выйдут только 2 детали Р(B) = {round(PB, 4)} = {round(PB * 100, 2)}%')\n"
   ]
  },
  {
   "cell_type": "markdown",
   "metadata": {},
   "source": [
    "в) Вероятность того, что вышли из строя хотя бы одна деталь, как противоположное событию не вышло из строя ни одной детали:"
   ]
  },
  {
   "cell_type": "code",
   "execution_count": 3,
   "metadata": {},
   "outputs": [
    {
     "name": "stdout",
     "output_type": "stream",
     "text": [
      "Вероятность того, что из строя не выйдет ни одной детали Р(C) = 0.54 = 54.0%\n"
     ]
    }
   ],
   "source": [
    "PC = 0.9 * 0.8 * 0.75\n",
    "print(f'Вероятность того, что из строя не выйдет ни одной детали Р(C) = {round(PC, 4)} = {round(PC * 100, 2)}%')\n"
   ]
  },
  {
   "cell_type": "code",
   "execution_count": 4,
   "metadata": {},
   "outputs": [
    {
     "name": "stdout",
     "output_type": "stream",
     "text": [
      "Вероятность того, что вышли из строя хотя бы одна деталь PD = 0.46 = 46.0%\n"
     ]
    }
   ],
   "source": [
    "PD = 1 - PC\n",
    "print(f'Вероятность того, что вышли из строя хотя бы одна деталь PD = {round(PD, 4)} = {round(PD * 100, 2)}%')\n"
   ]
  },
  {
   "cell_type": "markdown",
   "metadata": {},
   "source": [
    "г) Вероятность того, что вышли из строя выйдут от одной до двух деталей:"
   ]
  },
  {
   "cell_type": "code",
   "execution_count": 5,
   "metadata": {},
   "outputs": [
    {
     "name": "stdout",
     "output_type": "stream",
     "text": [
      "Вероятность того, что выйдет из строя одна деталь Р(E) = 0.455 = 45.5%\n"
     ]
    }
   ],
   "source": [
    "PE = 0.1 * 0.8 * 0.75 + 0.2 * 0.9 * 0.75 + 0.25 * 0.9 * 0.8\n",
    "PF = PE + PB\n",
    "print(f'Вероятность того, что выйдет из строя одна деталь Р(E) = {round(PF, 4)} = {round(PF * 100, 2)}%')\n"
   ]
  }
 ],
 "metadata": {
  "kernelspec": {
   "display_name": "Python 3",
   "language": "python",
   "name": "python3"
  },
  "language_info": {
   "codemirror_mode": {
    "name": "ipython",
    "version": 3
   },
   "file_extension": ".py",
   "mimetype": "text/x-python",
   "name": "python",
   "nbconvert_exporter": "python",
   "pygments_lexer": "ipython3",
   "version": "3.11.8"
  }
 },
 "nbformat": 4,
 "nbformat_minor": 2
}
