{
 "cells": [
  {
   "cell_type": "markdown",
   "metadata": {},
   "source": [
    "## Задача 3"
   ]
  },
  {
   "cell_type": "markdown",
   "metadata": {},
   "source": [
    "Вероятность того, что цель поражена, определяется, как сумма вероятностей этих событий:"
   ]
  },
  {
   "cell_type": "code",
   "execution_count": 1,
   "metadata": {},
   "outputs": [
    {
     "name": "stdout",
     "output_type": "stream",
     "text": [
      "Вероятность того, что цель поражена P(B) = 0.7667\n"
     ]
    }
   ],
   "source": [
    "PBA = 1/3\n",
    "PB = PBA * 0.9 + PBA * 0.8 + PBA * 0.6\n",
    "print(f'Вероятность того, что цель поражена P(B) = {round(PB, 4)}')"
   ]
  },
  {
   "cell_type": "markdown",
   "metadata": {},
   "source": [
    "С помощью формулы Байеса P(A│B)=(P(B│A)*P(A))/(P(B)) оценим вероятность того, что выстрел произведен каждым спортсменом:"
   ]
  },
  {
   "cell_type": "code",
   "execution_count": 2,
   "metadata": {},
   "outputs": [
    {
     "name": "stdout",
     "output_type": "stream",
     "text": [
      "Вероятность того, что выстрел произвёл первый спортсмен: PAB1 = 0.3913 = 39.13%;\n",
      "Вероятность того, что выстрел произвёл второй спортсмен: PAB1 = 0.3478 = 34.78%;\n",
      "Вероятность того, что выстрел произвёл третий спортсмен: PAB1 = 0.2609 = 26.09%.\n"
     ]
    }
   ],
   "source": [
    "PAB1 = PBA * 0.9 / PB\n",
    "PAB2 = PBA * 0.8 / PB\n",
    "PAB3 = PBA * 0.6 / PB\n",
    "print(f'Вероятность того, что выстрел произвёл первый спортсмен: PAB1 = {round(PAB1, 4)} = {round(PAB1 * 100, 2)}%;\\n'\n",
    "      f'Вероятность того, что выстрел произвёл второй спортсмен: PAB1 = {round(PAB2, 4)} = {round(PAB2 * 100, 2)}%;\\n'\n",
    "      f'Вероятность того, что выстрел произвёл третий спортсмен: PAB1 = {round(PAB3, 4)} = {round(PAB3 * 100, 2)}%.')\n"
   ]
  }
 ],
 "metadata": {
  "kernelspec": {
   "display_name": "Python 3",
   "language": "python",
   "name": "python3"
  },
  "language_info": {
   "codemirror_mode": {
    "name": "ipython",
    "version": 3
   },
   "file_extension": ".py",
   "mimetype": "text/x-python",
   "name": "python",
   "nbconvert_exporter": "python",
   "pygments_lexer": "ipython3",
   "version": "3.11.8"
  }
 },
 "nbformat": 4,
 "nbformat_minor": 2
}
