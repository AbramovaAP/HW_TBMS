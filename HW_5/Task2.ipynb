{
 "cells": [
  {
   "cell_type": "markdown",
   "metadata": {},
   "source": [
    "## Задача 2"
   ]
  },
  {
   "cell_type": "markdown",
   "metadata": {},
   "source": [
    "1. Определяем гипотезу:  \n",
    "Основная гипотеза: H_0 ∶M(X)=17,μ=μ_0  \n",
    "Альтернативная гипотеза: H_1 ∶M(X)=17.5,μ>μ_0  \n",
    "ПКО: Ω_α=(t_(1-α),∞)\n"
   ]
  },
  {
   "cell_type": "markdown",
   "metadata": {},
   "source": [
    "2. Определяем наблюдаемый критерий:"
   ]
  },
  {
   "cell_type": "code",
   "execution_count": 1,
   "metadata": {},
   "outputs": [],
   "source": [
    "import numpy as np\n",
    "import scipy.stats as stats\n"
   ]
  },
  {
   "cell_type": "code",
   "execution_count": 2,
   "metadata": {},
   "outputs": [
    {
     "name": "stdout",
     "output_type": "stream",
     "text": [
      "Наблюдаемое значение z-критерия: 2.5\n"
     ]
    }
   ],
   "source": [
    "mu = 17.5\n",
    "mu0 = 17\n",
    "sigma = 2\n",
    "n = 100\n",
    "\n",
    "zn = (mu - mu0) / (sigma / np.sqrt(n))\n",
    "print(f'Наблюдаемое значение z-критерия: {round(zn, 4)}')\n"
   ]
  },
  {
   "cell_type": "markdown",
   "metadata": {},
   "source": [
    "3. Определяем уровень значимости:  \n",
    "α=0.05\n"
   ]
  },
  {
   "cell_type": "markdown",
   "metadata": {},
   "source": [
    "4. Определяем табличный критерий:"
   ]
  },
  {
   "cell_type": "code",
   "execution_count": 3,
   "metadata": {},
   "outputs": [
    {
     "name": "stdout",
     "output_type": "stream",
     "text": [
      "Табличное значение z-критерия: 1.6449\n"
     ]
    }
   ],
   "source": [
    "alpha = 0.05\n",
    "\n",
    "zt = stats.norm.ppf(1 - alpha)\n",
    "print(f'Табличное значение z-критерия: {round(zt, 4)}')\n"
   ]
  },
  {
   "cell_type": "code",
   "execution_count": 4,
   "metadata": {},
   "outputs": [
    {
     "data": {
      "text/plain": [
       "False"
      ]
     },
     "execution_count": 4,
     "metadata": {},
     "output_type": "execute_result"
    }
   ],
   "source": [
    "zn < zt"
   ]
  },
  {
   "cell_type": "markdown",
   "metadata": {},
   "source": [
    "5. Так как z_н> z_t, то нулевая гипотеза H_0 отвергается."
   ]
  }
 ],
 "metadata": {
  "kernelspec": {
   "display_name": "Python 3",
   "language": "python",
   "name": "python3"
  },
  "language_info": {
   "codemirror_mode": {
    "name": "ipython",
    "version": 3
   },
   "file_extension": ".py",
   "mimetype": "text/x-python",
   "name": "python",
   "nbconvert_exporter": "python",
   "pygments_lexer": "ipython3",
   "version": "3.11.8"
  }
 },
 "nbformat": 4,
 "nbformat_minor": 2
}
